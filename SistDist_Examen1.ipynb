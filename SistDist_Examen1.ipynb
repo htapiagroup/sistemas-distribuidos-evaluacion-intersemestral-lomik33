{
  "nbformat": 4,
  "nbformat_minor": 0,
  "metadata": {
    "colab": {
      "name": "SistDist_Examen1.ipynb",
      "version": "0.3.2",
      "provenance": [],
      "collapsed_sections": [],
      "toc_visible": true,
      "include_colab_link": true
    },
    "kernelspec": {
      "name": "python3",
      "display_name": "Python 3"
    }
  },
  "cells": [
    {
      "cell_type": "markdown",
      "metadata": {
        "id": "view-in-github",
        "colab_type": "text"
      },
      "source": [
        "<a href=\"https://colab.research.google.com/github/htapiagroup/sistemas-distribuidos-evaluacion-intersemestral-lomik33/blob/master/SistDist_Examen1.ipynb\" target=\"_parent\"><img src=\"https://colab.research.google.com/assets/colab-badge.svg\" alt=\"Open In Colab\"/></a>"
      ]
    },
    {
      "cell_type": "markdown",
      "metadata": {
        "id": "lMrtfqoFciNp",
        "colab_type": "text"
      },
      "source": [
        "##Equipo:\n",
        "Ismael López Martínez <br/>\n",
        "Ginna Monzerrat Nava Enríquez<br/>\n",
        "Francisco García Ortega<br/>\n",
        "José David Cobos Trujillo<br/>\n",
        "Examen: https://colab.research.google.com/drive/13lToRPMX3G1jm6Owj195lWWQQ5OLEhiB"
      ]
    },
    {
      "cell_type": "code",
      "metadata": {
        "id": "Ss6Bn1_OcgaR",
        "colab_type": "code",
        "outputId": "69c9c274-cc8c-4b57-8a00-3c0435edd38c",
        "colab": {
          "base_uri": "https://localhost:8080/",
          "height": 315
        }
      },
      "source": [
        "!wget https://archive.org/download/nycTaxiTripData2013/trip_data.7z #descarga del dataset"
      ],
      "execution_count": 0,
      "outputs": [
        {
          "output_type": "stream",
          "text": [
            "--2019-06-24 21:41:05--  https://archive.org/download/nycTaxiTripData2013/trip_data.7z\n",
            "Resolving archive.org (archive.org)... 207.241.224.2\n",
            "Connecting to archive.org (archive.org)|207.241.224.2|:443... connected.\n",
            "HTTP request sent, awaiting response... 302 Found\n",
            "Location: https://ia902501.us.archive.org/1/items/nycTaxiTripData2013/trip_data.7z [following]\n",
            "--2019-06-24 21:41:05--  https://ia902501.us.archive.org/1/items/nycTaxiTripData2013/trip_data.7z\n",
            "Resolving ia902501.us.archive.org (ia902501.us.archive.org)... 207.241.228.211\n",
            "Connecting to ia902501.us.archive.org (ia902501.us.archive.org)|207.241.228.211|:443... connected.\n",
            "HTTP request sent, awaiting response... 200 OK\n",
            "Length: 4102781969 (3.8G) [application/x-7z-compressed]\n",
            "Saving to: ‘trip_data.7z’\n",
            "\n",
            "trip_data.7z        100%[===================>]   3.82G  9.50MB/s    in 8m 46s  \n",
            "\n",
            "2019-06-24 21:49:51 (7.44 MB/s) - ‘trip_data.7z’ saved [4102781969/4102781969]\n",
            "\n"
          ],
          "name": "stdout"
        }
      ]
    },
    {
      "cell_type": "code",
      "metadata": {
        "id": "Q-h3heWfdDDH",
        "colab_type": "code",
        "outputId": "47bc6db7-f260-4640-c5f8-ba4adedf3be1",
        "colab": {
          "base_uri": "https://localhost:8080/",
          "height": 627
        }
      },
      "source": [
        "!7z l trip_data.7z"
      ],
      "execution_count": 0,
      "outputs": [
        {
          "output_type": "stream",
          "text": [
            "\n",
            "7-Zip [64] 16.02 : Copyright (c) 1999-2016 Igor Pavlov : 2016-05-21\n",
            "p7zip Version 16.02 (locale=en_US.UTF-8,Utf16=on,HugeFiles=on,64 bits,2 CPUs Intel(R) Xeon(R) CPU @ 2.30GHz (306F0),ASM,AES-NI)\n",
            "\n",
            "Scanning the drive for archives:\n",
            "  0M Scan\b\b\b\b\b\b\b\b\b         \b\b\b\b\b\b\b\b\b1 file, 4102781969 bytes (3913 MiB)\n",
            "\n",
            "Listing archive: trip_data.7z\n",
            "\n",
            "--\n",
            "Path = trip_data.7z\n",
            "Type = 7z\n",
            "Physical Size = 4102781969\n",
            "Headers Size = 433\n",
            "Method = LZMA:24\n",
            "Solid = -\n",
            "Blocks = 12\n",
            "\n",
            "   Date      Time    Attr         Size   Compressed  Name\n",
            "------------------- ----- ------------ ------------  ------------------------\n",
            "2014-05-12 22:02:53 ....A   2459600863    345687208  trip_data_1.csv\n",
            "2014-01-15 06:55:32 ....A   2502278613    358624764  trip_data_10.csv\n",
            "2014-01-15 07:34:24 ....A   2395449056    342987617  trip_data_11.csv\n",
            "2014-01-15 08:09:28 ....A   2327237611    331056148  trip_data_12.csv\n",
            "2014-05-12 22:08:09 ....A   2328673265    327374725  trip_data_2.csv\n",
            "2013-08-26 02:19:46 ....A   2622301287    371026139  trip_data_3.csv\n",
            "2013-08-26 02:53:34 ....A   2515040578    361556239  trip_data_4.csv\n",
            "2013-08-26 03:27:40 ....A   2545680024    358447730  trip_data_5.csv\n",
            "2013-08-26 03:59:30 ....A   2396133818    341464743  trip_data_6.csv\n",
            "2014-01-15 05:01:12 ....A   2303297474    324785999  trip_data_7.csv\n",
            "2014-01-15 05:35:12 ....A   2100978620    300295410  trip_data_8.csv\n",
            "2014-01-15 06:13:50 ....A   2353003850    339474814  trip_data_9.csv\n",
            "------------------- ----- ------------ ------------  ------------------------\n",
            "2014-05-12 22:08:09        28849675059   4102781536  12 files\n"
          ],
          "name": "stdout"
        }
      ]
    },
    {
      "cell_type": "code",
      "metadata": {
        "id": "a2yJjHNTgLeq",
        "colab_type": "code",
        "colab": {}
      },
      "source": [
        "import pandas as pd\n",
        "import numpy as np\n",
        "import psutil, os \n",
        "import dask.dataframe as dd\n",
        "import gc\n",
        "import time\n",
        "import datetime as dt"
      ],
      "execution_count": 0,
      "outputs": []
    },
    {
      "cell_type": "code",
      "metadata": {
        "id": "0GIJGfuuUw9y",
        "colab_type": "code",
        "colab": {}
      },
      "source": [
        "#Plantilla para descomprimir los archivos del archivo 7z\n",
        "plantilla = 'trip_data_{:01d}.csv'"
      ],
      "execution_count": 0,
      "outputs": []
    },
    {
      "cell_type": "code",
      "metadata": {
        "id": "aLmKlVmlWNgf",
        "colab_type": "code",
        "colab": {}
      },
      "source": [
        "#Arreglo contiene el nombre de los archivos que eventualmente se descomprimiran del original\n",
        "files =[ plantilla.format(month) for month in range(1,13)]"
      ],
      "execution_count": 0,
      "outputs": []
    },
    {
      "cell_type": "markdown",
      "metadata": {
        "id": "0baJ4tKdYi8Y",
        "colab_type": "text"
      },
      "source": [
        "##1 y 2 Procesamiento de archivo trip_data.7z\n",
        "Nuestro procedimiento consistio en descomprimir archivo por archivo, procesarlo, finalmente borrarlo.<br/>\n",
        "Con el objetivo de no llenar el espacio en DD"
      ]
    },
    {
      "cell_type": "code",
      "metadata": {
        "id": "qyRmh87lHknj",
        "colab_type": "code",
        "colab": {}
      },
      "source": [
        "def leer_archivo_depurado(fileName):  \n",
        "  plantilla7z='7z x trip_data.7z  -o/content '+ fileName\n",
        "  os.system(plantilla7z)\n",
        "  data=dd.read_csv(file,low_memory=False, parse_dates=True, usecols=[0,5,6,7,8,9,10,11,12,13], \n",
        "                   names=['medallion','pickup_datetime','dropoff_datetime','passenger_count',\n",
        "                          'trip_time_in_secs','trip_distance','pickup_longitude','pickup_latitude','dropoff_longitude','dropoff_latitude'],header=0, dtype={'trip_distance': 'float64','trip_time_in_secs': 'int64', 'medallion': 'str', 'passenger_count': 'int64','pickup_longitude': 'float64','pickup_latitude':'float64','dropoff_longitude': 'float64', 'dropoff_latitude':'float64'}).compute() # se carga a dataset de pandas    \n",
        "  os.system('rm '+fileName)  \n",
        "  return data"
      ],
      "execution_count": 0,
      "outputs": []
    },
    {
      "cell_type": "code",
      "metadata": {
        "id": "pr7-om5oFwhi",
        "colab_type": "code",
        "colab": {}
      },
      "source": [
        "def leer_archivo_puros(fileName):\n",
        "  plantilla7z='7z x trip_data.7z  -o/content '+ fileName\n",
        "  #print (plantilla7z)\n",
        "  os.system(plantilla7z)\n",
        "  data=dd.read_csv(file,low_memory=False, parse_dates=True, dtype={' store_and_fwd_flag':'object'}).compute() # se carga a dataset    \n",
        "  os.system('rm '+fileName)  \n",
        "  return data\n",
        "  "
      ],
      "execution_count": 0,
      "outputs": []
    },
    {
      "cell_type": "markdown",
      "metadata": {
        "id": "y0wGqmPaZcj6",
        "colab_type": "text"
      },
      "source": [
        "##3.- Responder las siguientes preguntas:<br/>\n",
        "A) Cuantas columnas contiene cada archivo de datos descomprimido.<br/>\n",
        "B) Cuantos renglones tiene cada archivo."
      ]
    },
    {
      "cell_type": "code",
      "metadata": {
        "id": "pIo9okGOXUia",
        "colab_type": "code",
        "colab": {}
      },
      "source": [
        "dfContar = pd.DataFrame(columns=['Name', 'Columns', 'Rows'])\n"
      ],
      "execution_count": 0,
      "outputs": []
    },
    {
      "cell_type": "code",
      "metadata": {
        "id": "SC6kKY98XD5T",
        "colab_type": "code",
        "colab": {}
      },
      "source": [
        "#Con base a la plantilla de los 12 archivos\n",
        "#Se procesaron de forma secuencial uno tras otro con la librerias dask\n",
        "#Para intercalar el uso de los recursos (Memoria, Disco Duro)\n",
        "#Finalmente el resultado lo dejamos en un DataFrame de Pandas pues no implica gran uso de de los recursos\n",
        "for file in files:\n",
        "  df=leer_archivo_puros(file)\n",
        "  total_rows=len(df.axes[0])\n",
        "  total_cols=len(df.axes[1])\n",
        "  new_row=pd.DataFrame({'Name' : file , 'Columns' : total_cols, 'Rows':total_rows},index=[0])  \n",
        "  dfContar=pd.concat([new_row,dfContar]).reset_index(drop=True)"
      ],
      "execution_count": 0,
      "outputs": []
    },
    {
      "cell_type": "code",
      "metadata": {
        "id": "hOAAVJ2rfojB",
        "colab_type": "code",
        "outputId": "7fa6da7a-7e5d-4825-a053-113c72531455",
        "colab": {
          "base_uri": "https://localhost:8080/",
          "height": 417
        }
      },
      "source": [
        "  dfContar.sort_values(by=['Name'])\n",
        "  dfContar.head(12)"
      ],
      "execution_count": 0,
      "outputs": [
        {
          "output_type": "execute_result",
          "data": {
            "text/html": [
              "<div>\n",
              "<style scoped>\n",
              "    .dataframe tbody tr th:only-of-type {\n",
              "        vertical-align: middle;\n",
              "    }\n",
              "\n",
              "    .dataframe tbody tr th {\n",
              "        vertical-align: top;\n",
              "    }\n",
              "\n",
              "    .dataframe thead th {\n",
              "        text-align: right;\n",
              "    }\n",
              "</style>\n",
              "<table border=\"1\" class=\"dataframe\">\n",
              "  <thead>\n",
              "    <tr style=\"text-align: right;\">\n",
              "      <th></th>\n",
              "      <th>Name</th>\n",
              "      <th>Columns</th>\n",
              "      <th>Rows</th>\n",
              "    </tr>\n",
              "  </thead>\n",
              "  <tbody>\n",
              "    <tr>\n",
              "      <th>0</th>\n",
              "      <td>trip_data_12.csv</td>\n",
              "      <td>14</td>\n",
              "      <td>13971118</td>\n",
              "    </tr>\n",
              "    <tr>\n",
              "      <th>1</th>\n",
              "      <td>trip_data_11.csv</td>\n",
              "      <td>14</td>\n",
              "      <td>14388451</td>\n",
              "    </tr>\n",
              "    <tr>\n",
              "      <th>2</th>\n",
              "      <td>trip_data_10.csv</td>\n",
              "      <td>14</td>\n",
              "      <td>15004556</td>\n",
              "    </tr>\n",
              "    <tr>\n",
              "      <th>3</th>\n",
              "      <td>trip_data_9.csv</td>\n",
              "      <td>14</td>\n",
              "      <td>14107693</td>\n",
              "    </tr>\n",
              "    <tr>\n",
              "      <th>4</th>\n",
              "      <td>trip_data_8.csv</td>\n",
              "      <td>14</td>\n",
              "      <td>12597109</td>\n",
              "    </tr>\n",
              "    <tr>\n",
              "      <th>5</th>\n",
              "      <td>trip_data_7.csv</td>\n",
              "      <td>14</td>\n",
              "      <td>13823840</td>\n",
              "    </tr>\n",
              "    <tr>\n",
              "      <th>6</th>\n",
              "      <td>trip_data_6.csv</td>\n",
              "      <td>14</td>\n",
              "      <td>14385456</td>\n",
              "    </tr>\n",
              "    <tr>\n",
              "      <th>7</th>\n",
              "      <td>trip_data_5.csv</td>\n",
              "      <td>14</td>\n",
              "      <td>15285049</td>\n",
              "    </tr>\n",
              "    <tr>\n",
              "      <th>8</th>\n",
              "      <td>trip_data_4.csv</td>\n",
              "      <td>14</td>\n",
              "      <td>15100468</td>\n",
              "    </tr>\n",
              "    <tr>\n",
              "      <th>9</th>\n",
              "      <td>trip_data_3.csv</td>\n",
              "      <td>14</td>\n",
              "      <td>15749228</td>\n",
              "    </tr>\n",
              "    <tr>\n",
              "      <th>10</th>\n",
              "      <td>trip_data_2.csv</td>\n",
              "      <td>14</td>\n",
              "      <td>13990176</td>\n",
              "    </tr>\n",
              "    <tr>\n",
              "      <th>11</th>\n",
              "      <td>trip_data_1.csv</td>\n",
              "      <td>14</td>\n",
              "      <td>14776615</td>\n",
              "    </tr>\n",
              "  </tbody>\n",
              "</table>\n",
              "</div>"
            ],
            "text/plain": [
              "                Name Columns      Rows\n",
              "0   trip_data_12.csv      14  13971118\n",
              "1   trip_data_11.csv      14  14388451\n",
              "2   trip_data_10.csv      14  15004556\n",
              "3    trip_data_9.csv      14  14107693\n",
              "4    trip_data_8.csv      14  12597109\n",
              "5    trip_data_7.csv      14  13823840\n",
              "6    trip_data_6.csv      14  14385456\n",
              "7    trip_data_5.csv      14  15285049\n",
              "8    trip_data_4.csv      14  15100468\n",
              "9    trip_data_3.csv      14  15749228\n",
              "10   trip_data_2.csv      14  13990176\n",
              "11   trip_data_1.csv      14  14776615"
            ]
          },
          "metadata": {
            "tags": []
          },
          "execution_count": 36
        }
      ]
    },
    {
      "cell_type": "markdown",
      "metadata": {
        "id": "bSJUaMbD9WUy",
        "colab_type": "text"
      },
      "source": [
        "###4 Identificar si existen renglones con errores en los datos.<br/>\n",
        "Por ejemplo si hay columnas de mas (o de menos), si hay campos vacios, etc. Si se detectan renglones con errores:<br/>\n",
        "A)indicar claramente cuantos son los renglones con errores y a que archivos corresponden <br/>\n",
        "B)crear un nuevo conjunto de datos con los errores eliminados <br/>"
      ]
    },
    {
      "cell_type": "code",
      "metadata": {
        "id": "ySAJY5P7RqJa",
        "colab_type": "code",
        "colab": {}
      },
      "source": [
        "files =[plantilla.format(month) for month in range(1,13)]\n"
      ],
      "execution_count": 0,
      "outputs": []
    },
    {
      "cell_type": "code",
      "metadata": {
        "id": "PPoipdxpjUwx",
        "colab_type": "code",
        "colab": {}
      },
      "source": [
        "dfLimpiar =  pd.DataFrame(columns=['Name', 'Columns', 'Rows','CantNulos','FueraRangoPasaje','FueraRangoNY','FueraMillas','RowsFinales'])"
      ],
      "execution_count": 0,
      "outputs": []
    },
    {
      "cell_type": "code",
      "metadata": {
        "id": "kriM0utqy2kN",
        "colab_type": "code",
        "outputId": "0f0d653b-09cd-4990-8619-2deee6109593",
        "colab": {
          "base_uri": "https://localhost:8080/",
          "height": 124
        }
      },
      "source": [
        "#Montamos la unidad de google para trabajar con ella y evitar que se llene el espacio de almacenamienta\n",
        "from google.colab import drive\n",
        "drive.mount('/content/gdrive' ,force_remount=True)"
      ],
      "execution_count": 0,
      "outputs": [
        {
          "output_type": "stream",
          "text": [
            "Go to this URL in a browser: https://accounts.google.com/o/oauth2/auth?client_id=947318989803-6bn6qk8qdgf4n4g3pfee6491hc0brc4i.apps.googleusercontent.com&redirect_uri=urn%3Aietf%3Awg%3Aoauth%3A2.0%3Aoob&scope=email%20https%3A%2F%2Fwww.googleapis.com%2Fauth%2Fdocs.test%20https%3A%2F%2Fwww.googleapis.com%2Fauth%2Fdrive%20https%3A%2F%2Fwww.googleapis.com%2Fauth%2Fdrive.photos.readonly%20https%3A%2F%2Fwww.googleapis.com%2Fauth%2Fpeopleapi.readonly&response_type=code\n",
            "\n",
            "Enter your authorization code:\n",
            "··········\n",
            "Mounted at /content/gdrive\n"
          ],
          "name": "stdout"
        }
      ]
    },
    {
      "cell_type": "code",
      "metadata": {
        "id": "-MKYVhdKf7ZP",
        "colab_type": "code",
        "colab": {}
      },
      "source": [
        "quedafiltros=[]"
      ],
      "execution_count": 0,
      "outputs": []
    },
    {
      "cell_type": "code",
      "metadata": {
        "id": "l3CPa_THfxl7",
        "colab_type": "code",
        "colab": {}
      },
      "source": [
        "def limpiarDataFrame(df):\n",
        "    a=len(df.axes[0])\n",
        "    df=df.dropna()\n",
        "    #df = df[(df['passenger_count'] >0) & (df['passenger_count'] <= 7)]\n",
        "    quedafiltros.append(a-len(df.axes[0]))\n",
        "    a=len(df.axes[0])\n",
        "    #df=df.dropna()\n",
        "    df = df[(df['passenger_count'] >0) & (df['passenger_count'] <= 7)]\n",
        "    quedafiltros.append(a-len(df.axes[0]))\n",
        "    a=len(df.axes[0])\n",
        "    df=df[(df['pickup_latitude'] >40.496136) & (df['pickup_latitude'] <40.897877) & (df['pickup_longitude'] >-74.269459)& (df['pickup_longitude'] <-73.690606)]\n",
        "    quedafiltros.append(a-len(df.axes[0]))\n",
        "    a=len(df.axes[0])\n",
        "    df = df[(df['trip_distance'] <=100)]\n",
        "    quedafiltros.append(a-len(df.axes[0]))\n",
        "    return df"
      ],
      "execution_count": 0,
      "outputs": []
    },
    {
      "cell_type": "code",
      "metadata": {
        "id": "70tD0FhY9Ohy",
        "colab_type": "code",
        "colab": {}
      },
      "source": [
        "#Proceso de limpieza de datos se realiza sobre todos los datos del archivo original\n",
        "for file in files:  \n",
        "  df=leer_archivo_depurado(file)\n",
        "  a=limpiarDataFrame(df)\n",
        "  fname=file\n",
        "  a.to_csv(fname)  \n",
        "  gzipCommand=\"gzip \"+fname  \n",
        "  os.system(gzipCommand)  \n",
        "  gzipName=fname+\".gz\"\n",
        "  os.system( \"mv \"+gzipName +\" \\\"/content/gdrive/My Drive/Colab Notebooks/\"+gzipName+\"\\\"\") \n",
        "  total_rows=len(df.axes[0])\n",
        "  total_cols=len(df.axes[1])\n",
        "  new_row=pd.DataFrame({'Name' : file , 'Columns' : total_cols, 'Rows':total_rows,'CantNulos':quedafiltros[0],'FueraRangoPasaje':quedafiltros[1],'FueraRangoNY':quedafiltros[2],'FueraMillas':quedafiltros[3],'RowsFinales':total_rows-(quedafiltros[0]+quedafiltros[1]+quedafiltros[2]+quedafiltros[3])},index=[0])\n",
        "  quedafiltros=[]\n",
        "  dfLimpiar=pd.concat([new_row,dfLimpiar]).reset_index(drop=True)  \n",
        "\n",
        "  \n",
        "\n"
      ],
      "execution_count": 0,
      "outputs": []
    },
    {
      "cell_type": "code",
      "metadata": {
        "id": "LXALjDqNHPPZ",
        "colab_type": "code",
        "outputId": "011b186e-0297-4fde-ef71-f4c2ea289ffa",
        "colab": {
          "base_uri": "https://localhost:8080/",
          "height": 436
        }
      },
      "source": [
        "dfLimpiar"
      ],
      "execution_count": 0,
      "outputs": [
        {
          "output_type": "execute_result",
          "data": {
            "text/html": [
              "<div>\n",
              "<style scoped>\n",
              "    .dataframe tbody tr th:only-of-type {\n",
              "        vertical-align: middle;\n",
              "    }\n",
              "\n",
              "    .dataframe tbody tr th {\n",
              "        vertical-align: top;\n",
              "    }\n",
              "\n",
              "    .dataframe thead th {\n",
              "        text-align: right;\n",
              "    }\n",
              "</style>\n",
              "<table border=\"1\" class=\"dataframe\">\n",
              "  <thead>\n",
              "    <tr style=\"text-align: right;\">\n",
              "      <th></th>\n",
              "      <th>Name</th>\n",
              "      <th>Columns</th>\n",
              "      <th>Rows</th>\n",
              "      <th>CantNulos</th>\n",
              "      <th>FueraRangoPasaje</th>\n",
              "      <th>FueraRangoNY</th>\n",
              "      <th>FueraMillas</th>\n",
              "      <th>RowsFinales</th>\n",
              "    </tr>\n",
              "  </thead>\n",
              "  <tbody>\n",
              "    <tr>\n",
              "      <th>0</th>\n",
              "      <td>trip_data_12.csv</td>\n",
              "      <td>10</td>\n",
              "      <td>13971118</td>\n",
              "      <td>112</td>\n",
              "      <td>259</td>\n",
              "      <td>233359</td>\n",
              "      <td>0</td>\n",
              "      <td>13737388</td>\n",
              "    </tr>\n",
              "    <tr>\n",
              "      <th>1</th>\n",
              "      <td>trip_data_11.csv</td>\n",
              "      <td>10</td>\n",
              "      <td>14388451</td>\n",
              "      <td>754</td>\n",
              "      <td>136</td>\n",
              "      <td>276720</td>\n",
              "      <td>0</td>\n",
              "      <td>14110841</td>\n",
              "    </tr>\n",
              "    <tr>\n",
              "      <th>2</th>\n",
              "      <td>trip_data_10.csv</td>\n",
              "      <td>10</td>\n",
              "      <td>15004556</td>\n",
              "      <td>736</td>\n",
              "      <td>104</td>\n",
              "      <td>170721</td>\n",
              "      <td>0</td>\n",
              "      <td>14832995</td>\n",
              "    </tr>\n",
              "    <tr>\n",
              "      <th>3</th>\n",
              "      <td>trip_data_9.csv</td>\n",
              "      <td>10</td>\n",
              "      <td>14107693</td>\n",
              "      <td>78</td>\n",
              "      <td>94</td>\n",
              "      <td>152414</td>\n",
              "      <td>0</td>\n",
              "      <td>13955107</td>\n",
              "    </tr>\n",
              "    <tr>\n",
              "      <th>4</th>\n",
              "      <td>trip_data_8.csv</td>\n",
              "      <td>10</td>\n",
              "      <td>12597109</td>\n",
              "      <td>45</td>\n",
              "      <td>320</td>\n",
              "      <td>146214</td>\n",
              "      <td>771</td>\n",
              "      <td>12449759</td>\n",
              "    </tr>\n",
              "    <tr>\n",
              "      <th>5</th>\n",
              "      <td>trip_data_7.csv</td>\n",
              "      <td>10</td>\n",
              "      <td>13823840</td>\n",
              "      <td>698</td>\n",
              "      <td>109</td>\n",
              "      <td>206778</td>\n",
              "      <td>0</td>\n",
              "      <td>13616255</td>\n",
              "    </tr>\n",
              "    <tr>\n",
              "      <th>6</th>\n",
              "      <td>trip_data_6.csv</td>\n",
              "      <td>10</td>\n",
              "      <td>14385456</td>\n",
              "      <td>338</td>\n",
              "      <td>157</td>\n",
              "      <td>258610</td>\n",
              "      <td>0</td>\n",
              "      <td>14126351</td>\n",
              "    </tr>\n",
              "    <tr>\n",
              "      <th>7</th>\n",
              "      <td>trip_data_5.csv</td>\n",
              "      <td>10</td>\n",
              "      <td>15285049</td>\n",
              "      <td>39</td>\n",
              "      <td>86</td>\n",
              "      <td>798965</td>\n",
              "      <td>0</td>\n",
              "      <td>14485959</td>\n",
              "    </tr>\n",
              "    <tr>\n",
              "      <th>8</th>\n",
              "      <td>trip_data_4.csv</td>\n",
              "      <td>10</td>\n",
              "      <td>15100468</td>\n",
              "      <td>146</td>\n",
              "      <td>85</td>\n",
              "      <td>257812</td>\n",
              "      <td>0</td>\n",
              "      <td>14842425</td>\n",
              "    </tr>\n",
              "    <tr>\n",
              "      <th>9</th>\n",
              "      <td>trip_data_3.csv</td>\n",
              "      <td>10</td>\n",
              "      <td>15749228</td>\n",
              "      <td>293</td>\n",
              "      <td>136</td>\n",
              "      <td>282785</td>\n",
              "      <td>0</td>\n",
              "      <td>15466014</td>\n",
              "    </tr>\n",
              "    <tr>\n",
              "      <th>10</th>\n",
              "      <td>trip_data_2.csv</td>\n",
              "      <td>10</td>\n",
              "      <td>13990176</td>\n",
              "      <td>113</td>\n",
              "      <td>95</td>\n",
              "      <td>265047</td>\n",
              "      <td>0</td>\n",
              "      <td>13724921</td>\n",
              "    </tr>\n",
              "    <tr>\n",
              "      <th>11</th>\n",
              "      <td>trip_data_1.csv</td>\n",
              "      <td>10</td>\n",
              "      <td>14776615</td>\n",
              "      <td>86</td>\n",
              "      <td>83</td>\n",
              "      <td>272796</td>\n",
              "      <td>0</td>\n",
              "      <td>14503650</td>\n",
              "    </tr>\n",
              "  </tbody>\n",
              "</table>\n",
              "</div>"
            ],
            "text/plain": [
              "                Name Columns      Rows  ... FueraRangoNY FueraMillas RowsFinales\n",
              "0   trip_data_12.csv      10  13971118  ...       233359           0    13737388\n",
              "1   trip_data_11.csv      10  14388451  ...       276720           0    14110841\n",
              "2   trip_data_10.csv      10  15004556  ...       170721           0    14832995\n",
              "3    trip_data_9.csv      10  14107693  ...       152414           0    13955107\n",
              "4    trip_data_8.csv      10  12597109  ...       146214         771    12449759\n",
              "5    trip_data_7.csv      10  13823840  ...       206778           0    13616255\n",
              "6    trip_data_6.csv      10  14385456  ...       258610           0    14126351\n",
              "7    trip_data_5.csv      10  15285049  ...       798965           0    14485959\n",
              "8    trip_data_4.csv      10  15100468  ...       257812           0    14842425\n",
              "9    trip_data_3.csv      10  15749228  ...       282785           0    15466014\n",
              "10   trip_data_2.csv      10  13990176  ...       265047           0    13724921\n",
              "11   trip_data_1.csv      10  14776615  ...       272796           0    14503650\n",
              "\n",
              "[12 rows x 8 columns]"
            ]
          },
          "metadata": {
            "tags": []
          },
          "execution_count": 55
        }
      ]
    },
    {
      "cell_type": "markdown",
      "metadata": {
        "id": "cEcymLd9_kY4",
        "colab_type": "text"
      },
      "source": [
        "###5. Crear un DataFrame usando la libreria pandas y responder lo siguiente:<br/>\n",
        "A)Indicar el tiempo en segundos, que tarda la libreria pandas en leer un archivo a un  DataFrame<br/>\n",
        "B)Cual es la huella de memoria del proceso usado para generar el objeto DataFrame <br/>\n",
        "C)Cuanta memoria del sistema se usa para crear el objeto anterior <br/>\n",
        "D)Indicar el tiempo que tarda pandas en obtener el promedio de la distancia de viaje (trip_distance) <br/>"
      ]
    },
    {
      "cell_type": "code",
      "metadata": {
        "id": "8t_JkmqZJt8S",
        "colab_type": "code",
        "colab": {}
      },
      "source": [
        "#función tomada de clase Sistemas Distribuidos II Autor: Horacio Tapía\n",
        "def huella_memoria():\n",
        "  '''Regresa la huella de memoria usada por un proceso de Python'''\n",
        "  mem = psutil.Process(os.getpid()).memory_info().rss\n",
        "  return (mem / 1024**2)"
      ],
      "execution_count": 0,
      "outputs": []
    },
    {
      "cell_type": "code",
      "metadata": {
        "id": "8YDFUb7W684U",
        "colab_type": "code",
        "outputId": "b82787ae-5483-48bc-bfa7-72df9bf9305e",
        "colab": {
          "base_uri": "https://localhost:8080/",
          "height": 87
        }
      },
      "source": [
        "antes = huella_memoria() #A) Indicar el tiempo en segundos, que tarda la libreria pandas en leer un archivo a un DataFrame \n",
        "print('Memoria antes: {} MB'.format(antes))\n",
        "%time df = pd.DataFrame(pd.read_csv('trip_data_1.csv'))\n",
        "despues = huella_memoria()\n",
        "print('Memoria despues: {} MB'.format(despues))"
      ],
      "execution_count": 0,
      "outputs": [
        {
          "output_type": "stream",
          "text": [
            "Memoria antes: 5106.0625 MB\n",
            "CPU times: user 47.5 s, sys: 14 s, total: 1min 1s\n",
            "Wall time: 1min 1s\n",
            "Memoria despues: 8027.80078125 MB\n"
          ],
          "name": "stdout"
        }
      ]
    },
    {
      "cell_type": "code",
      "metadata": {
        "id": "61Hx6rXQNmWB",
        "colab_type": "code",
        "outputId": "cbbe126e-aa38-469c-9815-4a3b65173cf2",
        "colab": {
          "base_uri": "https://localhost:8080/",
          "height": 35
        }
      },
      "source": [
        "print('Memoria usada: {} MB'.format(despues-antes)) # B) Cual es la huella de memoria del proceso usado para generar el objeto DataFrame"
      ],
      "execution_count": 0,
      "outputs": [
        {
          "output_type": "stream",
          "text": [
            "Memoria usada: 2921.73828125 MB\n"
          ],
          "name": "stdout"
        }
      ]
    },
    {
      "cell_type": "code",
      "metadata": {
        "id": "fgbrCmdNMqNp",
        "colab_type": "code",
        "outputId": "f204d5aa-ce2f-4532-bb90-7c577d227f04",
        "colab": {
          "base_uri": "https://localhost:8080/",
          "height": 35
        }
      },
      "source": [
        "tam=df.memory_usage().sum() // (1024**2) # C) Cuanta memoria del sistema se usa para crear el objeto anterior\n",
        "print('Memoria usada por el objeto dataframe: {} MB'.format(tam))"
      ],
      "execution_count": 0,
      "outputs": [
        {
          "output_type": "stream",
          "text": [
            "Memoria usada por el objeto dataframe: 1578 MB\n"
          ],
          "name": "stdout"
        }
      ]
    },
    {
      "cell_type": "code",
      "metadata": {
        "id": "gcUpwBVvakvQ",
        "colab_type": "code",
        "outputId": "ba977420-08a5-40bd-c4d8-e3877cdb1846",
        "colab": {
          "base_uri": "https://localhost:8080/",
          "height": 69
        }
      },
      "source": [
        "%time promedio=df['trip_distance'].mean() # D) Indicar el tiempo que tarda pandas en obtener el promedio de la distancia de viaje (trip_distance)\n",
        "print('Promedio trip distance {} '.format(promedio))"
      ],
      "execution_count": 0,
      "outputs": [
        {
          "output_type": "stream",
          "text": [
            "CPU times: user 28.4 ms, sys: 2.07 ms, total: 30.4 ms\n",
            "Wall time: 32 ms\n",
            "Promedio trip distance 2.770975670679966 \n"
          ],
          "name": "stdout"
        }
      ]
    },
    {
      "cell_type": "markdown",
      "metadata": {
        "id": "LuxGCQv1BC-v",
        "colab_type": "text"
      },
      "source": [
        "###6. Todos los pasos siguientes deben realizarse usando la libreria dask<br/>\n",
        "A)Indicar el tiempo que tarda en obtener el promedio de la distancia de viaje (trip_distance)<br/>\n",
        "B)Indicar el tiempo que tarda en obtener el promedio de la duracion de viaje (trip_time_in_secs)<br/>\n",
        "C)Con las columnas pickup_datetime y dropoff_datetime como objetos temporales, crear una nueva columna en los dataframes que se llame duracion y compararla renglon a renglon con la columna trip_time_in_secs<br/>\n",
        "D)Definir un viaje_largo como aquellos en los que la duracion del viaje (trip_time_in_secs) sea mayor a 20 minutos.<br/>\n"
      ]
    },
    {
      "cell_type": "code",
      "metadata": {
        "id": "7MK_y07wyF1R",
        "colab_type": "code",
        "colab": {}
      },
      "source": [
        "dfPromedios= pd.DataFrame(columns=['Name', 'Columns', 'Rows','Time_Trip_Distance','Mean_Trip_Distance','Time_Trip_Time_In_Secs','Mean_Trip_Time_In_Secs'])"
      ],
      "execution_count": 0,
      "outputs": []
    },
    {
      "cell_type": "code",
      "metadata": {
        "id": "YkoSh_lXqniV",
        "colab_type": "code",
        "colab": {}
      },
      "source": [
        "def leer_archivo_limpio(fileName):  \n",
        "  !gzip -dc < \"/content/gdrive/My Drive/Colab Notebooks/trip_data_1.csv.gz\" > \"/content/trip_data_1.csv\"\n",
        "  fileNameExtract=fileName.replace(\".gz\",\"\")\n",
        "  plantillaGzip='gzip -dc \"/content/gdrive/My Drive/Colab Notebooks/'+ fileName+'\" > '+ fileNameExtract  \n",
        "  os.system(plantillaGzip)\n",
        "  data=dd.read_csv(file,low_memory=False, parse_dates=True,dtype={'trip_distance': 'float64','trip_time_in_secs': 'int64', 'medallion': 'str', 'passenger_count': 'int64','pickup_longitude': 'float64','pickup_latitude':'float64','dropoff_longitude': 'float64', 'dropoff_latitude':'float64'}).compute() # se carga a dataset de dask    \n",
        "  os.system('rm '+fileNameExtract)  \n",
        "  return data"
      ],
      "execution_count": 0,
      "outputs": []
    },
    {
      "cell_type": "code",
      "metadata": {
        "id": "tHQlXgMnwoa8",
        "colab_type": "code",
        "colab": {}
      },
      "source": [
        "files =[plantilla.format(month) for month in range(1,13)]"
      ],
      "execution_count": 0,
      "outputs": []
    },
    {
      "cell_type": "code",
      "metadata": {
        "id": "zosv2ID2wwF4",
        "colab_type": "code",
        "outputId": "b534be12-50a3-43d3-dfe3-bc99bc1da353",
        "colab": {
          "base_uri": "https://localhost:8080/",
          "height": 436
        }
      },
      "source": [
        "#Proceso de lectura de archivo .gzip con datos limpios para optimizar memoria y disco se descomprimen, se procesa, y se borra el archivo\n",
        "for file in files:  \n",
        "  df=leer_archivo_limpio(file)\n",
        "  t_start = time.time()\n",
        "  mean_trip_distance=df['trip_distance'].mean()\n",
        "  t_end = time.time()  \n",
        "  time_trip_distance=t_end-t_start\n",
        "  t_start = time.time()\n",
        "  mean_trip_time_in_secs=df['trip_time_in_secs'].mean()\n",
        "  t_end = time.time()\n",
        "  time_trip_time_in_secs=t_end-t_start\n",
        "  total_rows=len(df.axes[0])  \n",
        "  total_cols=len(df.axes[1])\n",
        "  new_row=pd.DataFrame({'Name' : file , 'Columns' : total_cols, 'Rows':total_rows,\n",
        "                        'Time_Trip_Distance':time_trip_distance,'Mean_Trip_Distance':mean_trip_distance,'Time_Trip_Time_In_Secs':time_trip_time_in_secs,\n",
        "                        'Mean_Trip_Time_In_Secs':mean_trip_time_in_secs},index=[0])\n",
        "  dfPromedios=pd.concat([new_row,dfPromedios]).reset_index(drop=True) \n",
        "dfPromedios  "
      ],
      "execution_count": 0,
      "outputs": [
        {
          "output_type": "execute_result",
          "data": {
            "text/html": [
              "<div>\n",
              "<style scoped>\n",
              "    .dataframe tbody tr th:only-of-type {\n",
              "        vertical-align: middle;\n",
              "    }\n",
              "\n",
              "    .dataframe tbody tr th {\n",
              "        vertical-align: top;\n",
              "    }\n",
              "\n",
              "    .dataframe thead th {\n",
              "        text-align: right;\n",
              "    }\n",
              "</style>\n",
              "<table border=\"1\" class=\"dataframe\">\n",
              "  <thead>\n",
              "    <tr style=\"text-align: right;\">\n",
              "      <th></th>\n",
              "      <th>Name</th>\n",
              "      <th>Columns</th>\n",
              "      <th>Rows</th>\n",
              "      <th>Time_Trip_Distance</th>\n",
              "      <th>Mean_Trip_Distance</th>\n",
              "      <th>Time_Trip_Time_In_Secs</th>\n",
              "      <th>Mean_Trip_Time_In_Secs</th>\n",
              "    </tr>\n",
              "  </thead>\n",
              "  <tbody>\n",
              "    <tr>\n",
              "      <th>0</th>\n",
              "      <td>trip_data_12.csv</td>\n",
              "      <td>11</td>\n",
              "      <td>13737388</td>\n",
              "      <td>0.027430</td>\n",
              "      <td>2.929154</td>\n",
              "      <td>0.025989</td>\n",
              "      <td>789.093469</td>\n",
              "    </tr>\n",
              "    <tr>\n",
              "      <th>1</th>\n",
              "      <td>trip_data_11.csv</td>\n",
              "      <td>11</td>\n",
              "      <td>14110841</td>\n",
              "      <td>0.028155</td>\n",
              "      <td>2.878807</td>\n",
              "      <td>0.026996</td>\n",
              "      <td>775.865342</td>\n",
              "    </tr>\n",
              "    <tr>\n",
              "      <th>2</th>\n",
              "      <td>trip_data_10.csv</td>\n",
              "      <td>11</td>\n",
              "      <td>14832995</td>\n",
              "      <td>0.029489</td>\n",
              "      <td>2.954097</td>\n",
              "      <td>0.027711</td>\n",
              "      <td>785.454424</td>\n",
              "    </tr>\n",
              "    <tr>\n",
              "      <th>3</th>\n",
              "      <td>trip_data_9.csv</td>\n",
              "      <td>11</td>\n",
              "      <td>13955107</td>\n",
              "      <td>0.027412</td>\n",
              "      <td>2.988236</td>\n",
              "      <td>0.025388</td>\n",
              "      <td>785.902557</td>\n",
              "    </tr>\n",
              "    <tr>\n",
              "      <th>4</th>\n",
              "      <td>trip_data_8.csv</td>\n",
              "      <td>11</td>\n",
              "      <td>12449759</td>\n",
              "      <td>0.027522</td>\n",
              "      <td>2.999994</td>\n",
              "      <td>0.023629</td>\n",
              "      <td>1541.909070</td>\n",
              "    </tr>\n",
              "    <tr>\n",
              "      <th>5</th>\n",
              "      <td>trip_data_7.csv</td>\n",
              "      <td>11</td>\n",
              "      <td>13616255</td>\n",
              "      <td>0.032929</td>\n",
              "      <td>2.909861</td>\n",
              "      <td>0.026090</td>\n",
              "      <td>750.594135</td>\n",
              "    </tr>\n",
              "    <tr>\n",
              "      <th>6</th>\n",
              "      <td>trip_data_6.csv</td>\n",
              "      <td>11</td>\n",
              "      <td>14126351</td>\n",
              "      <td>0.026962</td>\n",
              "      <td>2.945223</td>\n",
              "      <td>0.026089</td>\n",
              "      <td>782.405293</td>\n",
              "    </tr>\n",
              "    <tr>\n",
              "      <th>7</th>\n",
              "      <td>trip_data_5.csv</td>\n",
              "      <td>11</td>\n",
              "      <td>14485959</td>\n",
              "      <td>0.028509</td>\n",
              "      <td>2.912618</td>\n",
              "      <td>0.028068</td>\n",
              "      <td>780.132697</td>\n",
              "    </tr>\n",
              "    <tr>\n",
              "      <th>8</th>\n",
              "      <td>trip_data_4.csv</td>\n",
              "      <td>11</td>\n",
              "      <td>14842425</td>\n",
              "      <td>0.029111</td>\n",
              "      <td>2.867807</td>\n",
              "      <td>0.028412</td>\n",
              "      <td>747.699503</td>\n",
              "    </tr>\n",
              "    <tr>\n",
              "      <th>9</th>\n",
              "      <td>trip_data_3.csv</td>\n",
              "      <td>11</td>\n",
              "      <td>15466014</td>\n",
              "      <td>0.030332</td>\n",
              "      <td>2.846205</td>\n",
              "      <td>0.029428</td>\n",
              "      <td>718.598134</td>\n",
              "    </tr>\n",
              "    <tr>\n",
              "      <th>10</th>\n",
              "      <td>trip_data_2.csv</td>\n",
              "      <td>11</td>\n",
              "      <td>13724921</td>\n",
              "      <td>0.027053</td>\n",
              "      <td>2.745731</td>\n",
              "      <td>0.025388</td>\n",
              "      <td>702.955391</td>\n",
              "    </tr>\n",
              "    <tr>\n",
              "      <th>11</th>\n",
              "      <td>trip_data_1.csv</td>\n",
              "      <td>11</td>\n",
              "      <td>14503650</td>\n",
              "      <td>0.032245</td>\n",
              "      <td>2.775126</td>\n",
              "      <td>0.027193</td>\n",
              "      <td>684.448976</td>\n",
              "    </tr>\n",
              "  </tbody>\n",
              "</table>\n",
              "</div>"
            ],
            "text/plain": [
              "                Name Columns  ... Time_Trip_Time_In_Secs  Mean_Trip_Time_In_Secs\n",
              "0   trip_data_12.csv      11  ...               0.025989              789.093469\n",
              "1   trip_data_11.csv      11  ...               0.026996              775.865342\n",
              "2   trip_data_10.csv      11  ...               0.027711              785.454424\n",
              "3    trip_data_9.csv      11  ...               0.025388              785.902557\n",
              "4    trip_data_8.csv      11  ...               0.023629             1541.909070\n",
              "5    trip_data_7.csv      11  ...               0.026090              750.594135\n",
              "6    trip_data_6.csv      11  ...               0.026089              782.405293\n",
              "7    trip_data_5.csv      11  ...               0.028068              780.132697\n",
              "8    trip_data_4.csv      11  ...               0.028412              747.699503\n",
              "9    trip_data_3.csv      11  ...               0.029428              718.598134\n",
              "10   trip_data_2.csv      11  ...               0.025388              702.955391\n",
              "11   trip_data_1.csv      11  ...               0.027193              684.448976\n",
              "\n",
              "[12 rows x 7 columns]"
            ]
          },
          "metadata": {
            "tags": []
          },
          "execution_count": 60
        }
      ]
    },
    {
      "cell_type": "code",
      "metadata": {
        "id": "znHa_vRfACC2",
        "colab_type": "code",
        "outputId": "de1f6a8e-a089-4091-a693-59ce577700dd",
        "colab": {
          "base_uri": "https://localhost:8080/",
          "height": 104
        }
      },
      "source": [
        "#A)Indicar el tiempo que tarda en obtener el promedio de la distancia de viaje (trip_distance)\n",
        "#B)Indicar el tiempo que tarda en obtener el promedio de la duracion de viaje (trip_time_in_secs)\n",
        "dfPromedios.mean()"
      ],
      "execution_count": 0,
      "outputs": [
        {
          "output_type": "execute_result",
          "data": {
            "text/plain": [
              "Time_Trip_Distance          0.028929\n",
              "Mean_Trip_Distance          2.896072\n",
              "Time_Trip_Time_In_Secs      0.026699\n",
              "Mean_Trip_Time_In_Secs    820.421583\n",
              "dtype: float64"
            ]
          },
          "metadata": {
            "tags": []
          },
          "execution_count": 61
        }
      ]
    },
    {
      "cell_type": "code",
      "metadata": {
        "id": "K7_UsQuuDS5t",
        "colab_type": "code",
        "colab": {}
      },
      "source": [
        "#C)Con las columnas pickup_datetime y dropoff_datetime como objetos temporales, crear una nueva columna en los dataframes que se llame duracion y compararla renglon a renglon con la columna trip_time_in_secs\n",
        "#D)Definir un viaje_largo como aquellos en los que la duracion del viaje (trip_time_in_secs) sea mayor a 20 minutos.\n",
        "dfDiferentes = pd.DataFrame(columns=['Archivo','Rows','DatosDiferentes','ViajesLargos'])\n",
        "dfTop= pd.DataFrame(columns=['Archivo','Medallion','Número_De_Viajes'])\n",
        "dfTaxisDiferentes = pd.DataFrame (columns=['Archivo','Taxis_Diferentes'])\n",
        "for file in files:  \n",
        "  df=leer_archivo_limpio(file)\n",
        "  df['pickup_datetime'] = dd.to_datetime(df['pickup_datetime'])\n",
        "  df['dropoff_datetime'] = dd.to_datetime(df['dropoff_datetime'])\n",
        "  df['duracion']=df['dropoff_datetime']-df['pickup_datetime']\n",
        "  df['duracion'] = df['duracion'].dt.total_seconds()\n",
        "  diferentes = df[(df['duracion'] != df['trip_time_in_secs'])]\n",
        "  viajes_largos=df[(df['duracion']>1200)] #D)\n",
        "  #8\n",
        "  medallion = viajes_largos['medallion'].value_counts().keys().tolist()[:1]\n",
        "  numero = viajes_largos['medallion'].value_counts().tolist()[:1]\n",
        "  taxisDiferentes = viajes_largos.groupby('medallion')['medallion'].count()\n",
        "  new_r = pd.DataFrame({'Archivo' : file, 'Medallion' : medallion, 'Número_De_Viajes' : numero})\n",
        "  r_new = pd.DataFrame({'Archivo' : file, 'Taxis_Diferentes' : len(taxisDiferentes)}, index=[0])\n",
        "  rows = len(diferentes)\n",
        "  total_rows=len(df.axes[0])  \n",
        "  new_row = pd.DataFrame({'Archivo' : file , 'Rows' : total_rows  , 'DatosDiferentes' : rows,'ViajesLargos':len(viajes_largos)},index=[0])\n",
        "  dfDiferentes = pd.concat([new_row,dfDiferentes]).reset_index (drop=True)\n",
        "  dfTop = pd.concat([new_r,dfTop]).reset_index (drop=True)\n",
        "  dfTaxisDiferentes = pd.concat([r_new,dfTaxisDiferentes]).reset_index (drop=True)\n",
        " "
      ],
      "execution_count": 0,
      "outputs": []
    },
    {
      "cell_type": "markdown",
      "metadata": {
        "id": "Fk7DBsFICgMj",
        "colab_type": "text"
      },
      "source": [
        "###7. Contar el numero de viajes largos en cada archivo"
      ]
    },
    {
      "cell_type": "code",
      "metadata": {
        "id": "Hb7zwq4TsAr7",
        "colab_type": "code",
        "outputId": "8cdeb3f5-0256-4a97-a959-2bfc9c982dd2",
        "colab": {
          "base_uri": "https://localhost:8080/",
          "height": 416
        }
      },
      "source": [
        "dfDiferentes"
      ],
      "execution_count": 0,
      "outputs": [
        {
          "output_type": "execute_result",
          "data": {
            "text/html": [
              "<div>\n",
              "<style scoped>\n",
              "    .dataframe tbody tr th:only-of-type {\n",
              "        vertical-align: middle;\n",
              "    }\n",
              "\n",
              "    .dataframe tbody tr th {\n",
              "        vertical-align: top;\n",
              "    }\n",
              "\n",
              "    .dataframe thead th {\n",
              "        text-align: right;\n",
              "    }\n",
              "</style>\n",
              "<table border=\"1\" class=\"dataframe\">\n",
              "  <thead>\n",
              "    <tr style=\"text-align: right;\">\n",
              "      <th></th>\n",
              "      <th>Archivo</th>\n",
              "      <th>Rows</th>\n",
              "      <th>DatosDiferentes</th>\n",
              "      <th>ViajesLargos</th>\n",
              "    </tr>\n",
              "  </thead>\n",
              "  <tbody>\n",
              "    <tr>\n",
              "      <th>0</th>\n",
              "      <td>trip_data_12.csv</td>\n",
              "      <td>13737388</td>\n",
              "      <td>13616505</td>\n",
              "      <td>2393939</td>\n",
              "    </tr>\n",
              "    <tr>\n",
              "      <th>1</th>\n",
              "      <td>trip_data_11.csv</td>\n",
              "      <td>14110841</td>\n",
              "      <td>13985903</td>\n",
              "      <td>2331471</td>\n",
              "    </tr>\n",
              "    <tr>\n",
              "      <th>2</th>\n",
              "      <td>trip_data_10.csv</td>\n",
              "      <td>14832995</td>\n",
              "      <td>14702237</td>\n",
              "      <td>2524007</td>\n",
              "    </tr>\n",
              "    <tr>\n",
              "      <th>3</th>\n",
              "      <td>trip_data_9.csv</td>\n",
              "      <td>13955107</td>\n",
              "      <td>13835880</td>\n",
              "      <td>2398956</td>\n",
              "    </tr>\n",
              "    <tr>\n",
              "      <th>4</th>\n",
              "      <td>trip_data_8.csv</td>\n",
              "      <td>12450530</td>\n",
              "      <td>12346839</td>\n",
              "      <td>1903575</td>\n",
              "    </tr>\n",
              "    <tr>\n",
              "      <th>5</th>\n",
              "      <td>trip_data_7.csv</td>\n",
              "      <td>13616255</td>\n",
              "      <td>13486040</td>\n",
              "      <td>2058195</td>\n",
              "    </tr>\n",
              "    <tr>\n",
              "      <th>6</th>\n",
              "      <td>trip_data_6.csv</td>\n",
              "      <td>14126351</td>\n",
              "      <td>14003740</td>\n",
              "      <td>2372239</td>\n",
              "    </tr>\n",
              "    <tr>\n",
              "      <th>7</th>\n",
              "      <td>trip_data_5.csv</td>\n",
              "      <td>14485959</td>\n",
              "      <td>14371488</td>\n",
              "      <td>2432819</td>\n",
              "    </tr>\n",
              "    <tr>\n",
              "      <th>8</th>\n",
              "      <td>trip_data_4.csv</td>\n",
              "      <td>14842425</td>\n",
              "      <td>14697128</td>\n",
              "      <td>2225154</td>\n",
              "    </tr>\n",
              "    <tr>\n",
              "      <th>9</th>\n",
              "      <td>trip_data_3.csv</td>\n",
              "      <td>15466014</td>\n",
              "      <td>15323079</td>\n",
              "      <td>2082677</td>\n",
              "    </tr>\n",
              "    <tr>\n",
              "      <th>10</th>\n",
              "      <td>trip_data_2.csv</td>\n",
              "      <td>13724921</td>\n",
              "      <td>13599126</td>\n",
              "      <td>1741161</td>\n",
              "    </tr>\n",
              "    <tr>\n",
              "      <th>11</th>\n",
              "      <td>trip_data_1.csv</td>\n",
              "      <td>14503650</td>\n",
              "      <td>14362859</td>\n",
              "      <td>1689386</td>\n",
              "    </tr>\n",
              "  </tbody>\n",
              "</table>\n",
              "</div>"
            ],
            "text/plain": [
              "             Archivo      Rows DatosDiferentes ViajesLargos\n",
              "0   trip_data_12.csv  13737388        13616505      2393939\n",
              "1   trip_data_11.csv  14110841        13985903      2331471\n",
              "2   trip_data_10.csv  14832995        14702237      2524007\n",
              "3    trip_data_9.csv  13955107        13835880      2398956\n",
              "4    trip_data_8.csv  12450530        12346839      1903575\n",
              "5    trip_data_7.csv  13616255        13486040      2058195\n",
              "6    trip_data_6.csv  14126351        14003740      2372239\n",
              "7    trip_data_5.csv  14485959        14371488      2432819\n",
              "8    trip_data_4.csv  14842425        14697128      2225154\n",
              "9    trip_data_3.csv  15466014        15323079      2082677\n",
              "10   trip_data_2.csv  13724921        13599126      1741161\n",
              "11   trip_data_1.csv  14503650        14362859      1689386"
            ]
          },
          "metadata": {
            "tags": []
          },
          "execution_count": 24
        }
      ]
    },
    {
      "cell_type": "markdown",
      "metadata": {
        "id": "bH1BXaOPCk_9",
        "colab_type": "text"
      },
      "source": [
        "###8. De los viajes largos. <br/>\n",
        "A) Identificar el numero de taxis diferentes (la columna medallion contiene un numero que identificada a cada uno de los vehiculos). <br/>\n",
        "B) Que vehiculos son los que mas viajes realizan en cada mes? Son el mismo vehiculo?"
      ]
    },
    {
      "cell_type": "code",
      "metadata": {
        "id": "xjoDaK9YVN3e",
        "colab_type": "code",
        "colab": {
          "base_uri": "https://localhost:8080/",
          "height": 419
        },
        "outputId": "d18f51b1-0172-4250-fe40-a86d4d351ace"
      },
      "source": [
        "dfTaxisDiferentes"
      ],
      "execution_count": 14,
      "outputs": [
        {
          "output_type": "execute_result",
          "data": {
            "text/html": [
              "<div>\n",
              "<style scoped>\n",
              "    .dataframe tbody tr th:only-of-type {\n",
              "        vertical-align: middle;\n",
              "    }\n",
              "\n",
              "    .dataframe tbody tr th {\n",
              "        vertical-align: top;\n",
              "    }\n",
              "\n",
              "    .dataframe thead th {\n",
              "        text-align: right;\n",
              "    }\n",
              "</style>\n",
              "<table border=\"1\" class=\"dataframe\">\n",
              "  <thead>\n",
              "    <tr style=\"text-align: right;\">\n",
              "      <th></th>\n",
              "      <th>Archivo</th>\n",
              "      <th>Taxis_Diferentes</th>\n",
              "    </tr>\n",
              "  </thead>\n",
              "  <tbody>\n",
              "    <tr>\n",
              "      <th>0</th>\n",
              "      <td>trip_data_12.csv</td>\n",
              "      <td>13327</td>\n",
              "    </tr>\n",
              "    <tr>\n",
              "      <th>1</th>\n",
              "      <td>trip_data_11.csv</td>\n",
              "      <td>13309</td>\n",
              "    </tr>\n",
              "    <tr>\n",
              "      <th>2</th>\n",
              "      <td>trip_data_10.csv</td>\n",
              "      <td>13317</td>\n",
              "    </tr>\n",
              "    <tr>\n",
              "      <th>3</th>\n",
              "      <td>trip_data_9.csv</td>\n",
              "      <td>13325</td>\n",
              "    </tr>\n",
              "    <tr>\n",
              "      <th>4</th>\n",
              "      <td>trip_data_8.csv</td>\n",
              "      <td>13294</td>\n",
              "    </tr>\n",
              "    <tr>\n",
              "      <th>5</th>\n",
              "      <td>trip_data_7.csv</td>\n",
              "      <td>13292</td>\n",
              "    </tr>\n",
              "    <tr>\n",
              "      <th>6</th>\n",
              "      <td>trip_data_6.csv</td>\n",
              "      <td>13367</td>\n",
              "    </tr>\n",
              "    <tr>\n",
              "      <th>7</th>\n",
              "      <td>trip_data_5.csv</td>\n",
              "      <td>13315</td>\n",
              "    </tr>\n",
              "    <tr>\n",
              "      <th>8</th>\n",
              "      <td>trip_data_4.csv</td>\n",
              "      <td>13282</td>\n",
              "    </tr>\n",
              "    <tr>\n",
              "      <th>9</th>\n",
              "      <td>trip_data_3.csv</td>\n",
              "      <td>13277</td>\n",
              "    </tr>\n",
              "    <tr>\n",
              "      <th>10</th>\n",
              "      <td>trip_data_2.csv</td>\n",
              "      <td>13257</td>\n",
              "    </tr>\n",
              "    <tr>\n",
              "      <th>11</th>\n",
              "      <td>trip_data_1.csv</td>\n",
              "      <td>13272</td>\n",
              "    </tr>\n",
              "  </tbody>\n",
              "</table>\n",
              "</div>"
            ],
            "text/plain": [
              "             Archivo Taxis_Diferentes\n",
              "0   trip_data_12.csv            13327\n",
              "1   trip_data_11.csv            13309\n",
              "2   trip_data_10.csv            13317\n",
              "3    trip_data_9.csv            13325\n",
              "4    trip_data_8.csv            13294\n",
              "5    trip_data_7.csv            13292\n",
              "6    trip_data_6.csv            13367\n",
              "7    trip_data_5.csv            13315\n",
              "8    trip_data_4.csv            13282\n",
              "9    trip_data_3.csv            13277\n",
              "10   trip_data_2.csv            13257\n",
              "11   trip_data_1.csv            13272"
            ]
          },
          "metadata": {
            "tags": []
          },
          "execution_count": 14
        }
      ]
    },
    {
      "cell_type": "code",
      "metadata": {
        "id": "pEYYurtfVSNt",
        "colab_type": "code",
        "colab": {
          "base_uri": "https://localhost:8080/",
          "height": 419
        },
        "outputId": "dfc62222-3f96-4f37-e528-8c84fa68267b"
      },
      "source": [
        "dfTop"
      ],
      "execution_count": 15,
      "outputs": [
        {
          "output_type": "execute_result",
          "data": {
            "text/html": [
              "<div>\n",
              "<style scoped>\n",
              "    .dataframe tbody tr th:only-of-type {\n",
              "        vertical-align: middle;\n",
              "    }\n",
              "\n",
              "    .dataframe tbody tr th {\n",
              "        vertical-align: top;\n",
              "    }\n",
              "\n",
              "    .dataframe thead th {\n",
              "        text-align: right;\n",
              "    }\n",
              "</style>\n",
              "<table border=\"1\" class=\"dataframe\">\n",
              "  <thead>\n",
              "    <tr style=\"text-align: right;\">\n",
              "      <th></th>\n",
              "      <th>Archivo</th>\n",
              "      <th>Medallion</th>\n",
              "      <th>Número_De_Viajes</th>\n",
              "    </tr>\n",
              "  </thead>\n",
              "  <tbody>\n",
              "    <tr>\n",
              "      <th>0</th>\n",
              "      <td>trip_data_12.csv</td>\n",
              "      <td>5E3D30644F5CAEA4D1C5A07982D6616E</td>\n",
              "      <td>339</td>\n",
              "    </tr>\n",
              "    <tr>\n",
              "      <th>1</th>\n",
              "      <td>trip_data_11.csv</td>\n",
              "      <td>20BA941F62CC07F1FA3EF3E122B1E9B2</td>\n",
              "      <td>327</td>\n",
              "    </tr>\n",
              "    <tr>\n",
              "      <th>2</th>\n",
              "      <td>trip_data_10.csv</td>\n",
              "      <td>20BA941F62CC07F1FA3EF3E122B1E9B2</td>\n",
              "      <td>366</td>\n",
              "    </tr>\n",
              "    <tr>\n",
              "      <th>3</th>\n",
              "      <td>trip_data_9.csv</td>\n",
              "      <td>20BA941F62CC07F1FA3EF3E122B1E9B2</td>\n",
              "      <td>336</td>\n",
              "    </tr>\n",
              "    <tr>\n",
              "      <th>4</th>\n",
              "      <td>trip_data_8.csv</td>\n",
              "      <td>5466D714601371299033C01FB08BB93B</td>\n",
              "      <td>288</td>\n",
              "    </tr>\n",
              "    <tr>\n",
              "      <th>5</th>\n",
              "      <td>trip_data_7.csv</td>\n",
              "      <td>A4FC84D2662D988828DBD26B0948A413</td>\n",
              "      <td>330</td>\n",
              "    </tr>\n",
              "    <tr>\n",
              "      <th>6</th>\n",
              "      <td>trip_data_6.csv</td>\n",
              "      <td>A4FC84D2662D988828DBD26B0948A413</td>\n",
              "      <td>369</td>\n",
              "    </tr>\n",
              "    <tr>\n",
              "      <th>7</th>\n",
              "      <td>trip_data_5.csv</td>\n",
              "      <td>20BA941F62CC07F1FA3EF3E122B1E9B2</td>\n",
              "      <td>393</td>\n",
              "    </tr>\n",
              "    <tr>\n",
              "      <th>8</th>\n",
              "      <td>trip_data_4.csv</td>\n",
              "      <td>19E063791B0DF5A558B8488180DDAB67</td>\n",
              "      <td>334</td>\n",
              "    </tr>\n",
              "    <tr>\n",
              "      <th>9</th>\n",
              "      <td>trip_data_3.csv</td>\n",
              "      <td>DACFA6EF35923081481A22BE96339B6E</td>\n",
              "      <td>308</td>\n",
              "    </tr>\n",
              "    <tr>\n",
              "      <th>10</th>\n",
              "      <td>trip_data_2.csv</td>\n",
              "      <td>6FE6DFF9A59C0B64BE0CA64EE2699F08</td>\n",
              "      <td>253</td>\n",
              "    </tr>\n",
              "    <tr>\n",
              "      <th>11</th>\n",
              "      <td>trip_data_1.csv</td>\n",
              "      <td>A532B1493C4DD88C450F6796369EAA6F</td>\n",
              "      <td>256</td>\n",
              "    </tr>\n",
              "  </tbody>\n",
              "</table>\n",
              "</div>"
            ],
            "text/plain": [
              "             Archivo                         Medallion Número_De_Viajes\n",
              "0   trip_data_12.csv  5E3D30644F5CAEA4D1C5A07982D6616E              339\n",
              "1   trip_data_11.csv  20BA941F62CC07F1FA3EF3E122B1E9B2              327\n",
              "2   trip_data_10.csv  20BA941F62CC07F1FA3EF3E122B1E9B2              366\n",
              "3    trip_data_9.csv  20BA941F62CC07F1FA3EF3E122B1E9B2              336\n",
              "4    trip_data_8.csv  5466D714601371299033C01FB08BB93B              288\n",
              "5    trip_data_7.csv  A4FC84D2662D988828DBD26B0948A413              330\n",
              "6    trip_data_6.csv  A4FC84D2662D988828DBD26B0948A413              369\n",
              "7    trip_data_5.csv  20BA941F62CC07F1FA3EF3E122B1E9B2              393\n",
              "8    trip_data_4.csv  19E063791B0DF5A558B8488180DDAB67              334\n",
              "9    trip_data_3.csv  DACFA6EF35923081481A22BE96339B6E              308\n",
              "10   trip_data_2.csv  6FE6DFF9A59C0B64BE0CA64EE2699F08              253\n",
              "11   trip_data_1.csv  A532B1493C4DD88C450F6796369EAA6F              256"
            ]
          },
          "metadata": {
            "tags": []
          },
          "execution_count": 15
        }
      ]
    },
    {
      "cell_type": "markdown",
      "metadata": {
        "id": "oMaRXEwBC6t_",
        "colab_type": "text"
      },
      "source": [
        "###9.Hacer una grafica temporal del numero total de pasajeros agregados por dias de la semana y despues por horas del dia. Sugerencia: agregar por el correspondiente periodo temporal y graficar. <br/>\n",
        " ¿Que pueden observar de las graficas?"
      ]
    },
    {
      "cell_type": "markdown",
      "metadata": {
        "id": "HN4e6IL3GB-I",
        "colab_type": "text"
      },
      "source": [
        "##10. Elegir el vehiculo con mas viajes. <br/> \n",
        "En cada mes y graficar en un mapa los sitios donde se suben pasajeros agrupados por dia de la semana (un color distinto para cada dia)\n",
        "hora del dia (un color distinto para cada intervalo de cuatro horas,00:00 - 03:59, 04:00--07:59, 08:00-11:59, etc.)"
      ]
    },
    {
      "cell_type": "markdown",
      "metadata": {
        "id": "ptM-Vu3TGTyy",
        "colab_type": "text"
      },
      "source": [
        "##11. Repetir para las posiciones donde se bajan los pasajeros para el mismo vehiculo."
      ]
    },
    {
      "cell_type": "code",
      "metadata": {
        "id": "wzE6r8gyEbNp",
        "colab_type": "code",
        "colab": {}
      },
      "source": [
        ""
      ],
      "execution_count": 0,
      "outputs": []
    }
  ]
}